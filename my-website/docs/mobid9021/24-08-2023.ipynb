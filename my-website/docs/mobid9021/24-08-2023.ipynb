{
 "cells": [
  {
   "cell_type": "code",
   "execution_count": null,
   "metadata": {},
   "outputs": [],
   "source": [
    "students = int(input(\"Total No.of Students: \"))\n",
    "subjects = [\"Maths\", \"Chemistry\", \"Physics\", \"Computer Science\", \"English\"]\n",
    "sub_tchrs = [\"Prity Mishra\", \"Sumana Chatterjee\", \"M.D Deepa\", \"A.K Jha\", \"Antara Roy\"]\n",
    "main = []\n",
    "\n",
    "for i in range (students + 1):\n",
    "    name = input(\"Name of Student: \")\n",
    "    dic[\"Name\"] = name\n",
    "    dic = {}\n",
    "    for j in range (0,5):\n",
    "        dic[subjects[j]] = int(input(subjects[j]))\n",
    "\n",
    "    main.append(dic)"
   ]
  },
  {
   "cell_type": "code",
   "execution_count": 1,
   "metadata": {},
   "outputs": [],
   "source": [
    "main = [{'Name': 'Mobid', 'Maths': 100, 'Chemistry': 95, 'Physics': 95, 'Computer Science': 95, 'English': 95}, \n",
    "{'Name': 'Munasif', 'Maths': 95, 'Chemistry': 90, 'Physics': 90, 'Computer Science': 89, 'English': 100}]"
   ]
  },
  {
   "cell_type": "code",
   "execution_count": 2,
   "metadata": {},
   "outputs": [
    {
     "name": "stdout",
     "output_type": "stream",
     "text": [
      "Prity Mishra - Maths\n",
      "Antara Roy - English\n"
     ]
    }
   ],
   "source": [
    "subjects = [\"Maths\", \"Chemistry\", \"Physics\", \"Computer Science\", \"English\"]\n",
    "sub_tchrs = [\"Prity Mishra\", \"Sumana Chatterjee\", \"M.D Deepa\", \"A.K Jha\", \"Antara Roy\"]\n",
    "lst = []\n",
    "\n",
    "for j in range (5):\n",
    "    c=0\n",
    "    k = subjects[j]\n",
    "    for i in main:    \n",
    "        if i[k] > 90:\n",
    "            c = c+1\n",
    "    lst.append(c)\n",
    "\n",
    "for j in range (len(lst)):\n",
    "    if lst[j] == max(lst):\n",
    "        print(sub_tchrs[j], \"-\", subjects[j])"
   ]
  },
  {
   "cell_type": "code",
   "execution_count": null,
   "metadata": {},
   "outputs": [],
   "source": [
    "for j in range (5):\n",
    "    k = subjects[j]\n",
    "    max = 0\n",
    "    for i in main:\n",
    "        if i[k] > max:\n",
    "            max = i[k]\n",
    "            topper = i[\"Name\"]\n",
    "    print(topper)"
   ]
  },
  {
   "cell_type": "code",
   "execution_count": 5,
   "metadata": {},
   "outputs": [
    {
     "name": "stdout",
     "output_type": "stream",
     "text": [
      "[100.0, 95.0, 95.0, 90.0, 95.0, 90.0, 95.0, 89.0, 95.0, 100.0]\n",
      "Prity Mishra - Maths\n"
     ]
    },
    {
     "ename": "IndexError",
     "evalue": "list index out of range",
     "output_type": "error",
     "traceback": [
      "\u001b[1;31m---------------------------------------------------------------------------\u001b[0m",
      "\u001b[1;31mIndexError\u001b[0m                                Traceback (most recent call last)",
      "Cell \u001b[1;32mIn[5], line 15\u001b[0m\n\u001b[0;32m     13\u001b[0m \u001b[39mfor\u001b[39;00m j \u001b[39min\u001b[39;00m \u001b[39mrange\u001b[39m (\u001b[39mlen\u001b[39m(lst)):\n\u001b[0;32m     14\u001b[0m     \u001b[39mif\u001b[39;00m lst[j] \u001b[39m==\u001b[39m \u001b[39mmax\u001b[39m(lst):\n\u001b[1;32m---> 15\u001b[0m         \u001b[39mprint\u001b[39m(sub_tchrs[j], \u001b[39m\"\u001b[39m\u001b[39m-\u001b[39m\u001b[39m\"\u001b[39m, subjects[j])\n",
      "\u001b[1;31mIndexError\u001b[0m: list index out of range"
     ]
    }
   ],
   "source": [
    "lst = []\n",
    "for j in range (5):\n",
    "    k = subjects[j]\n",
    "    n = 0\n",
    "    total = 0\n",
    "    for i in main:\n",
    "        total =+ i[k]\n",
    "        n = 1\n",
    "        avg = total/n\n",
    "        lst.append(avg)\n",
    "print(lst)\n",
    "        \n",
    "for j in range (len(lst)):\n",
    "    if lst[j] == max(lst):\n",
    "        print(sub_tchrs[j], \"-\", subjects[j])"
   ]
  }
 ],
 "metadata": {
  "kernelspec": {
   "display_name": "Python 3",
   "language": "python",
   "name": "python3"
  },
  "language_info": {
   "codemirror_mode": {
    "name": "ipython",
    "version": 3
   },
   "file_extension": ".py",
   "mimetype": "text/x-python",
   "name": "python",
   "nbconvert_exporter": "python",
   "pygments_lexer": "ipython3",
   "version": "3.11.3"
  },
  "orig_nbformat": 4
 },
 "nbformat": 4,
 "nbformat_minor": 2
}
