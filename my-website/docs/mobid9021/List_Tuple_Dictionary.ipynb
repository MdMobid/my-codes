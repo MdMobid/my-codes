{
  "cells": [
    {
      "cell_type": "markdown",
      "metadata": {
        "id": "BJ-xWTb770OQ"
      },
      "source": [
        "# **LIST QUESTIONS**"
      ]
    },
    {
      "cell_type": "code",
      "execution_count": null,
      "metadata": {
        "id": "wXKA0Q6g8CwA"
      },
      "outputs": [],
      "source": [
        "#@title Write A Program To Display Sum of All The Numbers Present in a List:\n",
        "\n",
        "list1=[]\n",
        "rng=int(input(\"How Many Numbers You Want to Operate? \"))\n",
        "print(\"Enter Your Numbers Below:\")\n",
        "for i in range (1,rng+1):\n",
        "  num=int(input(\">> \"))\n",
        "  list1.append(num)\n",
        "\n",
        "sum=0\n",
        "for j in range (0,len(list1)):\n",
        "  sum=sum+list1[j]\n",
        "\n",
        "print(\"Sum of All Numbers in The List is:\", sum)"
      ]
    },
    {
      "cell_type": "code",
      "execution_count": null,
      "metadata": {
        "id": "5xVA5LWODR-b"
      },
      "outputs": [],
      "source": [
        "#@title Write A Program To Display Each Alternate Numbers in a List:\n",
        "\n",
        "rng=int(input(\"How Many Numbers You Want to Operate? \"))\n",
        "list1=[]\n",
        "print(\"Enter Your Numbers Below:\")\n",
        "for i in range (1,rng+1):\n",
        "  num=int(input(\">> \"))\n",
        "  list1.append(num)\n",
        "\n",
        "print(\"\")\n",
        "for i in range (0,len(list1),2):\n",
        "  print(list1[i])"
      ]
    },
    {
      "cell_type": "code",
      "execution_count": null,
      "metadata": {
        "id": "jUPAuhYzEqL7"
      },
      "outputs": [],
      "source": [
        "#@title Write A Program To Display Highest Number Present in a List:\n",
        "\n",
        "rng=int(input(\"How Many Numbers You Want to Operate? \"))\n",
        "list1=[]\n",
        "print(\"Enter Your Numbers Below:\")\n",
        "for i in range (1,rng+1):\n",
        "  num=int(input(\">> \"))\n",
        "  list1.append(num)\n",
        "\n",
        "print(\"\")\n",
        "max=list1[0]\n",
        "for i in range (1,len(list1)):\n",
        "  if max<list1[i]:\n",
        "    max=list1[i]\n",
        "\n",
        "print(\"The Highest Number in the List is:\", max)"
      ]
    },
    {
      "cell_type": "code",
      "execution_count": null,
      "metadata": {
        "id": "-kxxY_zyXYwR"
      },
      "outputs": [],
      "source": [
        "#@title Write A Program To Display Location and Frequency of a Given Element in List:\n",
        "\n",
        "rng=int(input(\"How Many Numbers You Want to Operate? \"))\n",
        "list1=[]\n",
        "print(\"Enter Your Numbers Below:\")\n",
        "for i in range (1,rng+1):\n",
        "  num=int(input(\">> \"))\n",
        "  list1.append(num)\n",
        "\n",
        "print(\"\")\n",
        "count=0\n",
        "loclst=[]\n",
        "num=int(input(\"Enter The Element You Want To Check its Frequency: \"))\n",
        "for i in range (0,len(list1)):\n",
        "  if num==list1[i]:\n",
        "    count=count+1\n",
        "    loclst.append(i)\n",
        "\n",
        "print(\">> Frequency:\", count)\n",
        "print(\">> Locations:\", loclst)"
      ]
    },
    {
      "cell_type": "code",
      "execution_count": null,
      "metadata": {
        "id": "na44hY7AkKAK"
      },
      "outputs": [],
      "source": [
        "#@title Write A Program To Interchange The First Element with Last and so on:\n",
        "\n",
        "print(\"Enter All Numbers You Want in the List with Comma Seperation: \")\n",
        "print(\"For Example: 1,2,3,4,5 \\n\")\n",
        "\n",
        "list2=[]\n",
        "list1=eval(input(\">> \"))\n",
        "list2.extend(list1)\n",
        "list3=list2[::]\n",
        "print(\"\")\n",
        "\n",
        "e=len(list2)-1\n",
        "for i in range (0,int(len(list2)/2)):\n",
        "  t=list2[i]\n",
        "  list2[i]=list2[e]\n",
        "  list2[e]=t\n",
        "  e=e-1\n",
        "\n",
        "print(\"Input List:\",list3)\n",
        "print(\"Interchanged List:\",list2)"
      ]
    },
    {
      "cell_type": "code",
      "execution_count": null,
      "metadata": {
        "id": "NDymYNWnrgKw"
      },
      "outputs": [],
      "source": [
        "#@title Write A Program To Interchange The First Half of the List with the Second Half:\n",
        "\n",
        "print(\"Enter All Numbers You Want in the List with Comma Seperation: \")\n",
        "print(\"For Example: 1,2,3,4,5 \\n\")\n",
        "\n",
        "list2=[]\n",
        "list1=eval(input(\">> \"))\n",
        "list2.extend(list1)\n",
        "list3=list2[::]\n",
        "print(\"\")\n",
        "\n",
        "leng=len(list2)+1\n",
        "e=(leng//2)\n",
        "for i in range (0,leng//2):\n",
        "  t=list2[i]\n",
        "  list2[i]=list2[e]\n",
        "  list2[e]=t\n",
        "  e=e+1\n",
        "\n",
        "print(\"Input List:\",list3)\n",
        "print(\"Interchanged List:\",list2)"
      ]
    },
    {
      "cell_type": "code",
      "execution_count": null,
      "metadata": {
        "id": "wKmmJJpyXXsX"
      },
      "outputs": [],
      "source": [
        "#@title Write A Program To Replace All Occurences of Even Numbers by Its Immediate Next Next Odd Number:\n",
        "\n",
        "print(\"Enter All Numbers You Want in the List with Comma Seperation: \")\n",
        "print(\"For Example: 1,2,3,4,5 \\n\")\n",
        "\n",
        "list2=[]\n",
        "list1=eval(input(\">> \"))\n",
        "list2.extend(list1)\n",
        "print(\"\")\n",
        "\n",
        "for i in range (0,len(list2)):\n",
        "  if list2[i]%2==0:\n",
        "    for j in range (i,len(list2)):\n",
        "      if list2[j]%2==1:\n",
        "        replace=list2[j]\n",
        "        break\n",
        "    list2[i]=replace\n",
        "\n",
        "print(\"Your Resultant List:\", list2)"
      ]
    },
    {
      "cell_type": "code",
      "execution_count": null,
      "metadata": {
        "id": "7GW8c6tRjBM2"
      },
      "outputs": [],
      "source": [
        "#@title Write A Program To Display All The Prime And Composite Number Present in a List:\n",
        "\n",
        "print(\"Enter All Numbers You Want in the List with Comma Seperation: \")\n",
        "print(\"For Example: 1,2,3,4,5 \\n\")\n",
        "\n",
        "list2=[]\n",
        "list1=eval(input(\">> \"))\n",
        "list2.extend(list1)\n",
        "print(\"\")\n",
        "\n",
        "prime=[]\n",
        "nprime=[]\n",
        "\n",
        "for numi in list2:\n",
        "  if numi==0:\n",
        "    nprime.append(0)\n",
        "  elif numi==1:\n",
        "    nprime.append(1)\n",
        "  else:\n",
        "    break\n",
        "\n",
        "for numi in list2:\n",
        "  if numi==0 or numi==1:\n",
        "    continue\n",
        "\n",
        "  for i in range(2,numi//2 +1):\n",
        "    if numi % i == 0 :\n",
        "      nprime.append(numi)\n",
        "      break\n",
        "\n",
        "  else:\n",
        "    prime.append(numi)\n",
        "\n",
        "print(\"Prime List:\", prime)\n",
        "print(\"Composite List:\", nprime)"
      ]
    },
    {
      "cell_type": "code",
      "execution_count": null,
      "metadata": {
        "id": "PWhknPTOtMnZ"
      },
      "outputs": [],
      "source": [
        "#@title Write A Program To Take Input For a Name And Display Output in the Given Format:\n",
        "#Input(Name) = MD Mobid Hossain\n",
        "#Output = M.M. Hossain\n",
        "\n",
        "name=input(\"Enter Your Name: \")\n",
        "name=name.split(\" \")\n",
        "short=\"\"\n",
        "\n",
        "for i in range (0,len(name)):\n",
        "  if i<len(name)-1:\n",
        "    a=name[i]\n",
        "    b=a[0]\n",
        "    short=short+b+\".\"\n",
        "\n",
        "  if i==len(name)-1:\n",
        "    short=short+\" \"+name[i]\n",
        "\n",
        "print(short)"
      ]
    },
    {
      "cell_type": "code",
      "execution_count": null,
      "metadata": {
        "id": "cWuFe49ETLw3"
      },
      "outputs": [],
      "source": [
        "#@title Write A Program To Take All The Numbers Which are present in a list but not in the second list:\n",
        "\n",
        "a=[1,2,3,4,5,6,8,9,0]\n",
        "b=[1,2,3,4]\n",
        "\n",
        "for i in a:\n",
        "  if i not in b:\n",
        "    print(i)"
      ]
    },
    {
      "cell_type": "code",
      "execution_count": null,
      "metadata": {
        "id": "B0Q8WXt4WEB7"
      },
      "outputs": [],
      "source": [
        "#@title Write A Program To Replace the Numbers present in a List by its Immediate Next Number:\n",
        "\n",
        "a=[1,2,3,4,5,6,8,9,0]\n",
        "b=[]\n",
        "\n",
        "for j in range (1,len(a)):\n",
        "  b.append(a[j])\n",
        "a=b[::]\n",
        "print(a)"
      ]
    },
    {
      "cell_type": "code",
      "execution_count": null,
      "metadata": {
        "id": "7PEIIAXtbwjk"
      },
      "outputs": [],
      "source": [
        "#@title Write A Program To Display Binary Equivalent to a Given Decimal Number:\n",
        "\n",
        "rem=0\n",
        "list1=[]\n",
        "n1=int(input(\"Enter A Number: \"))\n",
        "while n1>0:\n",
        "  rem=n1%2\n",
        "  n1=n1//2\n",
        "  list1.append(rem)\n",
        "print(list1[::-1])"
      ]
    },
    {
      "cell_type": "code",
      "execution_count": null,
      "metadata": {
        "id": "Ohj3jyWamWAo"
      },
      "outputs": [],
      "source": [
        "#@title Write A Program To Display Fibonacci Series:\n",
        "\n",
        "nterms=int(input(\"How Many Terms Do You want in your Fibonacci Series? \"))\n",
        "list1=[]\n",
        "n1=0\n",
        "n2=1\n",
        "count=0\n",
        "\n",
        "while count<nterms:\n",
        "  list1.append(n1)\n",
        "  a=n1+n2\n",
        "  n1=n2\n",
        "  n2=a\n",
        "  count=count+1\n",
        "print(list1)"
      ]
    },
    {
      "cell_type": "code",
      "execution_count": null,
      "metadata": {
        "id": "b-T3IScEd_Wd"
      },
      "outputs": [],
      "source": [
        "#@title Write A Program To Take Input for a Number and check whether its a Part of Fibonacci Series(upto 80):\n",
        "\n",
        "num=int(input(\"Enter a Number: \"))\n",
        "nterms=20\n",
        "list1=[]\n",
        "n1=0\n",
        "n2=1\n",
        "count=0\n",
        "c=0\n",
        "\n",
        "while count<nterms:\n",
        "  a=n1+n2\n",
        "  list1.append(n1)\n",
        "  n1=n2\n",
        "  n2=a\n",
        "  count+=1\n",
        "\n",
        "for i in range (0,len(list1)):\n",
        "  if list1[i]==num:\n",
        "    c=c+1\n",
        "if c==1:\n",
        "  print (\"Found\")\n",
        "else:\n",
        "    print(\"Not Found\")"
      ]
    },
    {
      "cell_type": "code",
      "execution_count": null,
      "metadata": {
        "id": "PQV-yQqK18Aw"
      },
      "outputs": [],
      "source": [
        "#@title Write A Program To Check Whether or not a String is Pallidrom:\n",
        "\n",
        "list2=[]\n",
        "list1=eval(input(\">> \"))\n",
        "list2.extend(list1)\n",
        "list3=list2[::-1]\n",
        "print(\"\")\n",
        "\n",
        "if list2==list3:\n",
        "  print(\"Yes, It's A Pallidrom\")\n",
        "else:\n",
        "  print(\"No, It's Not A Pallidrom\")"
      ]
    },
    {
      "cell_type": "markdown",
      "metadata": {
        "id": "TkZtNpOn1qW9"
      },
      "source": [
        "# **STRING QUESTIONS**"
      ]
    },
    {
      "cell_type": "code",
      "execution_count": null,
      "metadata": {
        "id": "kN2D21kWoaM5"
      },
      "outputs": [],
      "source": [
        "#@title Write A Program To Count No.of Special Characters Present in a String:\n",
        "\n",
        "strng=input(\"Enter Your String Here: \")\n",
        "\n",
        "a=\"abcdefghijklmnopqrstuvwxyz\"\n",
        "A=\"ABCDEFGHIJKLMNOPQRSTUVWXYZ\"\n",
        "num=\"0123456789\"\n",
        "count=0\n",
        "\n",
        "for i in strng:\n",
        "  if i not in a:\n",
        "    if i not in A:\n",
        "      if i not in num:\n",
        "        count=count+1\n",
        "\n",
        "print(\"Number of Special Characters:\", count)"
      ]
    },
    {
      "cell_type": "code",
      "execution_count": null,
      "metadata": {
        "id": "8mYG_w_mqSYp"
      },
      "outputs": [],
      "source": [
        "#@title Write A Program To Count No.of Vowels and Consonants Present in a String:\n",
        "\n",
        "strng=input(\"Enter Your String Here: \")\n",
        "vowels=\"aeiouAEIOU\"\n",
        "c=0\n",
        "d=0\n",
        "\n",
        "for i in strng:\n",
        "  if i in vowels:\n",
        "    c=c+1\n",
        "  if i not in vowels:\n",
        "    d=d+1\n",
        "\n",
        "print(\"No.of Vowels: \", c)\n",
        "print(\"No.of Consonants:\", d)"
      ]
    },
    {
      "cell_type": "code",
      "execution_count": null,
      "metadata": {
        "id": "PNqmq4YFRrEb"
      },
      "outputs": [],
      "source": [
        "#@title Write A Program To Take Input Of A Four Digit And Display Its String Equivalent:\n",
        "\n",
        "number=[\"\",\"One\",\"Two\",\"Three\",\"Four\",\"Five\",\"Six\",\"Seven\",\"Eight\",\"Nine\"]\n",
        "nty=[\"\",\"\",\"Twenty\",\"Thirty\",\"Forty\",\"Fifty\",\"Sixty\",\"Seventy\",\"Eighty\",\"Ninty\"]\n",
        "tens=[\"Ten\",\"Eleven\",\"Twelve\",\"Thirteen\",\"Fourteen\",\"Fifteen\",\"Sixteen\",\"Seventeen\",\"Eighteen\",\"Nineteen\"]\n",
        "\n",
        "n=input(\"Enter a Number: \")\n",
        "if len(n)>4:\n",
        "  print(\"Can't Proceed For More Than 4 Digit Number\")\n",
        "else:\n",
        "  a=[]\n",
        "  for i in range (0,len(n)):\n",
        "    a.append(int(n[i]))\n",
        "\n",
        "  num=\"\"\n",
        "  if a[0]!=0:\n",
        "    num=num+number[a[0]] + \" Thousand \"\n",
        "\n",
        "  if a[1]!=0:\n",
        "    num=num+number[a[1]] + \" Hundred \"\n",
        "\n",
        "  if a[2]!=0:\n",
        "    if a[2]==1:\n",
        "      num=num+tens[a[3]]\n",
        "    else:\n",
        "      num=num+nty[a[2]]\n",
        "\n",
        "  else:\n",
        "    if a[0]!=0:\n",
        "      num=num+number[a[3]]\n",
        "\n",
        "  print(num)"
      ]
    },
    {
      "cell_type": "code",
      "execution_count": null,
      "metadata": {
        "id": "UbTiigScs4Vx"
      },
      "outputs": [],
      "source": [
        "#@title Write A Program To Display All Elements Present in a String:\n",
        "\n",
        "string=input(\"Enter Your String: \")\n",
        "\n",
        "for i in range (0,len(string)):\n",
        "  print(string[i])"
      ]
    },
    {
      "cell_type": "code",
      "execution_count": null,
      "metadata": {
        "id": "wOAV1QBU1QMt"
      },
      "outputs": [],
      "source": [
        "#@title Write A Program To Check Whether or not a String is Pallidrom:\n",
        "\n",
        "s1=input(\"Enter Your String Here: \")\n",
        "s2=s1[::-1]\n",
        "\n",
        "if s1==s2:\n",
        "  print(\"Yes, It's A Pallidrom\")\n",
        "else:\n",
        "  print(\"No, It's Not A Pallidrom\")"
      ]
    },
    {
      "cell_type": "code",
      "execution_count": null,
      "metadata": {
        "id": "D_WapZusgl47"
      },
      "outputs": [],
      "source": [
        "#@title Write A Program To Take Input For a Name And Display Short Name in the Given Format:\n",
        "#Input(Name) = MD Mobid Hossain\n",
        "#Output = M.M. Hossain\n",
        "\n",
        "name=input(\"Enter Your Name Here: \")\n",
        "name=name.split(\" \")\n",
        "short=\"\"\n",
        "\n",
        "for i in range (0,len(name)):\n",
        "  if i<len(name)-1:\n",
        "    a=name[i]\n",
        "    b=a[0]\n",
        "    short=short+b+\".\"\n",
        "  if i==len(name)-1:\n",
        "    short=short+name[i]\n",
        "\n",
        "print(short)"
      ]
    },
    {
      "cell_type": "markdown",
      "metadata": {
        "id": "H4Oik2dPqip_"
      },
      "source": [
        "# Games"
      ]
    },
    {
      "cell_type": "code",
      "execution_count": null,
      "metadata": {
        "colab": {
          "base_uri": "https://localhost:8080/"
        },
        "id": "zu6ZOrNoqjNJ",
        "outputId": "f97807ef-535c-4af2-daa1-5b171bb11fcf"
      },
      "outputs": [
        {
          "name": "stdout",
          "output_type": "stream",
          "text": [
            "We Are Playing Rock, Paper, Scissors\n",
            "\n",
            "      1 => Rock\n",
            "      2 => Paper\n",
            "      3 => Scissors\n",
            "  \n",
            "Enter Your Option: 1\n",
            "We Are Playing Rock, Paper, Scissors\n",
            "\n",
            "      1 => Rock\n",
            "      2 => Paper\n",
            "      3 => Scissors\n",
            "  \n"
          ]
        }
      ],
      "source": [
        "from random import randint\n",
        "\n",
        "y=[\"Rock\",\"Paper\",\"Scissors\"]\n",
        "i=1\n",
        "while i>0:\n",
        "  print(\"We Are Playing Rock, Paper, Scissors\")\n",
        "  print('''\n",
        "      1 => Rock\n",
        "      2 => Paper\n",
        "      3 => Scissors\n",
        "  ''')\n",
        "\n",
        "  x=int(input(\"Enter Your Option: \"))\n",
        "  z=y[randint(0,2)]\n",
        "\n",
        "  if x==z:\n",
        "    print(\"Its a Tie :)\")\n",
        "\n",
        "  if x==0:\n",
        "    if z==1:\n",
        "      print(\"My Paper Covers Your Rock, I won Hurray!\")\n",
        "    if z==2:\n",
        "      print(\"Your Rock Broke My Scissor, I lost :(\")\n",
        "\n",
        "  if x==1:\n",
        "    if z==0:\n",
        "      print(\"Your Paper Covers My Rock, You Won\")\n",
        "    if z==2:\n",
        "      print(\"My Scissor Cuts Your Paper, Better luck Next Time!\")\n",
        "\n",
        "  if x==2:\n",
        "    if z==0:\n",
        "      print(\"My Rock Broke Your Scissor, As Stronger is me:\")\n",
        "    if z==1:\n",
        "      print(\"My Paper was Cut down by your Scissor :(\")\n",
        "\n",
        "'''  h=input(\"Do you want to Continue? y/n: \")\n",
        "  if h==\"y\" or h==\"Y\":\n",
        "    from google.colab import output\n",
        "    output.clear()\n",
        "    continue\n",
        "\n",
        "  if h==\"n\" or h==\"N\":\n",
        "    break\n",
        "\n",
        "print(\"Thank Your For Playing with Me, Hope to See You Again :)\")'''"
      ]
    }
  ],
  "metadata": {
    "colab": {
      "collapsed_sections": [
        "BJ-xWTb770OQ",
        "TkZtNpOn1qW9"
      ],
      "provenance": []
    },
    "kernelspec": {
      "display_name": "Python 3",
      "name": "python3"
    },
    "language_info": {
      "name": "python"
    }
  },
  "nbformat": 4,
  "nbformat_minor": 0
}
