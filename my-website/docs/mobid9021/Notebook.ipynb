{
 "cells": [
  {
   "cell_type": "code",
   "execution_count": 25,
   "metadata": {},
   "outputs": [],
   "source": [
    "# Main Cell\n",
    "\n",
    "import pandas as pd\n",
    "mdata = pd.read_csv(\"heart_disease.csv\")"
   ]
  },
  {
   "cell_type": "code",
   "execution_count": null,
   "metadata": {},
   "outputs": [],
   "source": [
    "# Total Patients in a particular Age Group\n",
    "\n",
    "frm = int(input(\"Age Group Lower Limit (from): \"))\n",
    "upto = int(input(\"Age Group Upper Limit (upto): \"))\n",
    "\n",
    "data = mdata[mdata[\"age\"]>=frm]\n",
    "data = data[data[\"age\"]<=upto]\n",
    "\n",
    "tcnt = data.shape[0]\n",
    "print(f\"Total No of Patients in [{frm} to {upto}] Age Group are : {tcnt}\" )"
   ]
  },
  {
   "cell_type": "code",
   "execution_count": null,
   "metadata": {},
   "outputs": [],
   "source": [
    "# Maximum And Minimum Age\n",
    "\n",
    "a=0\n",
    "for i in mdata[\"age\"]:\n",
    "    if i>a:\n",
    "        a=i\n",
    "b=a\n",
    "for j in mdata[\"age\"]:\n",
    "    if j<b:\n",
    "        b=j\n",
    "print(\"Maximum Age\", a)\n",
    "print(\"Minimum Age\", b)"
   ]
  }
 ],
 "metadata": {
  "kernelspec": {
   "display_name": "Python 3",
   "language": "python",
   "name": "python3"
  },
  "language_info": {
   "codemirror_mode": {
    "name": "ipython",
    "version": 3
   },
   "file_extension": ".py",
   "mimetype": "text/x-python",
   "name": "python",
   "nbconvert_exporter": "python",
   "pygments_lexer": "ipython3",
   "version": "3.11.3"
  },
  "orig_nbformat": 4
 },
 "nbformat": 4,
 "nbformat_minor": 2
}
